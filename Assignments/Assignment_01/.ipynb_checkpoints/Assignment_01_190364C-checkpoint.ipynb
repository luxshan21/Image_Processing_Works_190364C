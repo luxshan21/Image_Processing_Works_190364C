{
 "cells": [
  {
   "cell_type": "code",
   "execution_count": 3,
   "metadata": {},
   "outputs": [
    {
     "name": "stdout",
     "output_type": "stream",
     "text": [
      "51\n",
      "0\n",
      "205\n",
      "256\n"
     ]
    },
    {
     "data": {
      "image/png": "[encoded data removed]",
      "text/plain": [
       "<Figure size 432x288 with 1 Axes>"
      ]
     },
     "metadata": {
      "needs_background": "light"
     },
     "output_type": "display_data"
    }
   ],
   "source": [
    "# Question 2\n",
    "\n",
    "%matplotlib inline\n",
    "import cv2 as cv\n",
    "import numpy as np\n",
    "import matplotlib.pyplot as plt\n",
    "\n",
    "c= np.array([(50, 50), (50, 100) , (150, 255), (150,150) , (255,255)])\n",
    "t1 = np.linspace(0, c[0,1], c[0,0] + 1-0).astype('uint8')\n",
    "print(len(t1))\n",
    "t2 = np.linspace(c[0, 1] + 1, c[1,1], c[1,0]-c[0,0]).astype('uint8')\n",
    "print(len(t2))\n",
    "t3 = np. linspace(c[1,1], c[2,1], 255-c[1,0]).astype('uint8')\n",
    "print (len (t3))\n",
    "t3 = np. linspace(c[1,1], c[2,1], 255-c[1,0]).astype('uint8')\n",
    "print (len (t3))\n",
    "transform = np.concatenate((t1, t2), axis=0).astype('uint8') \n",
    "transform = np.concatenate((transform, t3), axis=0).astype('uint8')\n",
    "print(len(transform))\n",
    "\n",
    "fig,ax = plt.subplots() \n",
    "ax.plot(transform)\n",
    "\n",
    "ax.set_xlabel(r'Input, $f(\\mathbf {x})$') \n",
    "ax.set_ylabel('Output, $\\mathrm{T}]f(\\mathbf {x})]$')\n",
    "ax.set_xlim (0,255)\n",
    "ax.set_ylim (0,255) \n",
    "ax.set_aspect('equal')\n",
    "plt. savefig('transform.png')\n",
    "plt.show()\n",
    "\n",
    "img_orig = cv.imread('spider.png', cv.IMREAD_GRAYSCALE)\n",
    "#cv.namedWindow(\"Image\", cv.WINDOW_AUTOSIZE)\n",
    "#cv.imshow(\"Image\", img_orig)\n",
    "#cv.waitKey(0)\n",
    "#image_transformed = cv.LUT(img_orig, transform) \n",
    "#cv.imshow(\"Image\",image_transformed)\n",
    "#cv.waitKey(0)\n",
    "#cv.destroyAllWindows()\n"
   ]
  },
  {
   "cell_type": "code",
   "execution_count": null,
   "metadata": {},
   "outputs": [],
   "source": []
  }
 ],
 "metadata": {
  "kernelspec": {
   "display_name": "Python 3",
   "language": "python",
   "name": "python3"
  },
  "language_info": {
   "codemirror_mode": {
    "name": "ipython",
    "version": 3
   },
   "file_extension": ".py",
   "mimetype": "text/x-python",
   "name": "python",
   "nbconvert_exporter": "python",
   "pygments_lexer": "ipython3",
   "version": "3.9.6"
  }
 },
 "nbformat": 4,
 "nbformat_minor": 4
}
