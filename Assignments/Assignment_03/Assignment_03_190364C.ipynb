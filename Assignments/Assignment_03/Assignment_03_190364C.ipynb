{
 "cells": [
  {
   "cell_type": "code",
   "execution_count": 1,
   "metadata": {},
   "outputs": [],
   "source": [
    "# Name :- LUXSHAN S.\n",
    "# Index No :- 190364C\n",
    "# Github Link :- https://github.com/luxshan21/Image_Processing_Works_190364C.git"
   ]
  },
  {
   "cell_type": "code",
   "execution_count": 2,
   "metadata": {},
   "outputs": [
    {
     "data": {
      "image/png": "[encoded data removed]",
      "text/plain": [
       "<Figure size 432x288 with 3 Axes>"
      ]
     },
     "metadata": {
      "needs_background": "light"
     },
     "output_type": "display_data"
    }
   ],
   "source": [
    "import cv2 as cv\n",
    "import numpy as np\n",
    "import matplotlib.pyplot as plt\n",
    "\n",
    "hexnut_template = cv.imread('hexnut_template.png', cv.IMREAD_COLOR)\n",
    "squarenut_template =  cv.imread('squarenut_template.png', cv.IMREAD_COLOR)\n",
    "conveyor_f100 =  cv.imread('conveyor_f100.png', cv.IMREAD_COLOR)\n",
    "\n",
    "fig, ax = plt. subplots(1,3)\n",
    "ax[0].imshow(cv.cvtColor(hexnut_template, cv.COLOR_RGB2BGR))\n",
    "ax[1].imshow(cv.cvtColor(squarenut_template, cv.COLOR_RGB2BGR))\n",
    "ax[2].imshow(cv.cvtColor(conveyor_f100, cv.COLOR_RGB2BGR))\n",
    "plt.show()"
   ]
  },
  {
   "cell_type": "code",
   "execution_count": null,
   "metadata": {},
   "outputs": [],
   "source": []
  }
 ],
 "metadata": {
  "kernelspec": {
   "display_name": "Python 3",
   "language": "python",
   "name": "python3"
  },
  "language_info": {
   "codemirror_mode": {
    "name": "ipython",
    "version": 3
   },
   "file_extension": ".py",
   "mimetype": "text/x-python",
   "name": "python",
   "nbconvert_exporter": "python",
   "pygments_lexer": "ipython3",
   "version": "3.9.6"
  }
 },
 "nbformat": 4,
 "nbformat_minor": 4
}
