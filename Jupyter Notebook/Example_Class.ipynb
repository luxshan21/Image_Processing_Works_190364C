{
 "cells": [
  {
   "cell_type": "code",
   "execution_count": 2,
   "metadata": {},
   "outputs": [],
   "source": [
    "# Name = Luxshan s.\n",
    "# index = 190364C\n"
   ]
  },
  {
   "cell_type": "code",
   "execution_count": 1,
   "metadata": {},
   "outputs": [
    {
     "name": "stdout",
     "output_type": "stream",
     "text": [
      "1 : 1\n",
      "2 : 4\n",
      "3 : 9\n",
      "4 : 16\n",
      "5 : 25\n"
     ]
    }
   ],
   "source": [
    "# Question 1\n",
    "for i in range (1,6):\n",
    "    print(i,\":\",i*i)"
   ]
  },
  {
   "cell_type": "code",
   "execution_count": 2,
   "metadata": {},
   "outputs": [
    {
     "name": "stdout",
     "output_type": "stream",
     "text": [
      "1 : 1\n",
      "4 : 16\n"
     ]
    }
   ],
   "source": [
    "# Question 2\n",
    "import sympy\n",
    "for i in range (1,6):\n",
    "    if not sympy.isprime(i):\n",
    "        print(i,\":\",i*i)"
   ]
  },
  {
   "cell_type": "code",
   "execution_count": 3,
   "metadata": {},
   "outputs": [
    {
     "name": "stdout",
     "output_type": "stream",
     "text": [
      "0 : 1\n",
      "1 : 4\n",
      "2 : 9\n",
      "3 : 16\n",
      "4 : 25\n"
     ]
    }
   ],
   "source": [
    "# Question 3\n",
    "import sympy\n",
    "squares = [i**2 for i in range(1,6)]\n",
    "for i,i2 in enumerate(squares):\n",
    "  print(i,':',i2)\n"
   ]
  },
  {
   "cell_type": "code",
   "execution_count": 4,
   "metadata": {},
   "outputs": [
    {
     "name": "stdout",
     "output_type": "stream",
     "text": [
      "0 : 1\n",
      "1 : 16\n"
     ]
    }
   ],
   "source": [
    "# Question 4\n",
    "import sympy\n",
    "squares = [i**2 for i in range(1,6) if not sympy.isprime(i)]\n",
    "for i,i2 in enumerate(squares):\n",
    "  print(i,':',i2)"
   ]
  },
  {
   "cell_type": "code",
   "execution_count": 5,
   "metadata": {},
   "outputs": [
    {
     "name": "stdout",
     "output_type": "stream",
     "text": [
      "C = [[ 9 12 15  9]\n",
      " [25 32 39 19]\n",
      " [41 52 63 29]]\n",
      "C = [[ 9 12 15  9]\n",
      " [25 32 39 19]\n",
      " [41 52 63 29]]\n"
     ]
    }
   ],
   "source": [
    "# Question 5 (a)\n",
    "import numpy as np\n",
    "A = np.array([[1,2],[3,4],[5,6]])\n",
    "B = np.array([[7,8,9,1],[1,2,3,4]])\n",
    "print(\"C =\",np.dot(A,B))\n",
    "print(\"C =\",np.matmul(A,B))\n"
   ]
  },
  {
   "cell_type": "code",
   "execution_count": 6,
   "metadata": {},
   "outputs": [
    {
     "name": "stdout",
     "output_type": "stream",
     "text": [
      "C = [[ 3  4]\n",
      " [15 16]\n",
      " [15  6]]\n"
     ]
    }
   ],
   "source": [
    "# Question 5 (b)\n",
    "A = np.array([[1,2],[3,4],[5,6]])\n",
    "B = np.array([[3,2],[5,4],[3,1]])\n",
    "print(\"C =\",np.multiply(A,B))"
   ]
  },
  {
   "cell_type": "code",
   "execution_count": 7,
   "metadata": {},
   "outputs": [
    {
     "name": "stdout",
     "output_type": "stream",
     "text": [
      "[[6 6 9 8 6 6 5]\n",
      " [7 0 0 5 5 2 4]\n",
      " [8 1 3 0 6 8 8]\n",
      " [7 7 6 6 1 5 8]\n",
      " [6 6 8 9 8 5 2]]\n",
      "[[8 1 3]\n",
      " [7 7 6]\n",
      " [6 6 8]]\n",
      "9\n"
     ]
    }
   ],
   "source": [
    "# Question 6\n",
    "x = np.random.randint(10, size = (5,7))\n",
    "print(x)\n",
    "print(x[2:5,:3])\n",
    "print(np.size(x[2:5,:3]))"
   ]
  },
  {
   "cell_type": "code",
   "execution_count": 8,
   "metadata": {},
   "outputs": [
    {
     "name": "stdout",
     "output_type": "stream",
     "text": [
      "[[12 12 11]\n",
      " [ 9  9  8]\n",
      " [ 6  6  5]\n",
      " [ 3  3  2]]\n",
      "\n",
      "[[0 1 1]\n",
      " [0 1 1]\n",
      " [0 1 1]\n",
      " [0 1 1]]\n",
      "[[12 12 11]\n",
      " [ 9  9  8]\n",
      " [ 6  6  5]\n",
      " [ 3  3  2]]\n",
      "\n",
      "[[12 12 11]\n",
      " [ 9  9  8]\n",
      " [ 6  6  5]\n",
      " [ 3  3  2]]\n"
     ]
    }
   ],
   "source": [
    "# Question 7\n",
    "\n",
    "# Example 1\n",
    "A = np.array([[12,11,10], [9,8,7], [6,5,4], [3, 2, 1]])\n",
    "H = np.array([0, 1, 1])\n",
    "K = A + H  # Add H to each row of A using broadcasting\n",
    "print(K)  \n",
    "print()\n",
    "\n",
    "# Example 2\n",
    "M = np.tile(H, (4, 1))   # 4 copies of H\n",
    "print(M)                                           \n",
    "y = A+ M  # Add A and M elementwise using broadcasting\n",
    "print(y)  \n",
    "print()\n",
    "\n",
    "# Example 3\n",
    "U = np.empty_like(A)   # Create an empty matrix  A\n",
    "for i in range(4):# Add the vector H to each row of the matrix A with an explicit loop\n",
    "    U[i, :] = A[i, :] + H\n",
    "print(U)"
   ]
  },
  {
   "cell_type": "code",
   "execution_count": 9,
   "metadata": {},
   "outputs": [
    {
     "data": {
      "image/png": "[encoded data removed]",
      "text/plain": [
       "<Figure size 432x288 with 1 Axes>"
      ]
     },
     "metadata": {
      "needs_background": "light"
     },
     "output_type": "display_data"
    }
   ],
   "source": [
    "# Question 8 (a)\n",
    "\n",
    "import numpy as np\n",
    "from numpy import linalg\n",
    "import matplotlib.pyplot as plt\n",
    "\n",
    "\n",
    "m, c = 2 , -4\n",
    "N = 100\n",
    "x = np.linspace(0,N-1,N).reshape(N,1)\n",
    "sigma = 10\n",
    "y = m*x + c + np.random.normal (0,sigma,(N,1))\n",
    "plt.scatter(x,y)\n",
    "\n",
    "X = np.append(np.ones((N,1)),x,axis=1)"
   ]
  },
  {
   "cell_type": "code",
   "execution_count": 10,
   "metadata": {},
   "outputs": [
    {
     "data": {
      "text/plain": [
       "array([[-4.83640535],\n",
       "       [ 2.0063243 ]])"
      ]
     },
     "execution_count": 10,
     "metadata": {},
     "output_type": "execute_result"
    }
   ],
   "source": [
    "# Question 8 (b)\n",
    "w = linalg.inv(X.T @ X) @ X.T @ y\n",
    "w"
   ]
  },
  {
   "cell_type": "code",
   "execution_count": 11,
   "metadata": {},
   "outputs": [],
   "source": [
    "# Question 9\n"
   ]
  },
  {
   "cell_type": "code",
   "execution_count": 17,
   "metadata": {},
   "outputs": [],
   "source": [
    "# Question 10\n",
    "\n",
    "import cv2 as cv\n",
    "\n",
    "im = cv.imread('gal_gaussian.png')\n",
    "blur = cv.GaussianBlur(im,(5,5),0)\n",
    "cv.namedWindow('Image',cv.WINDOW_AUTOSIZE)\n",
    "cv.imshow('Image', im)\n",
    "cv.waitKey(0)\n",
    "cv.imshow('Image', blur)\n",
    "cv.waitKey(0)\n",
    "cv.destroyAllWindows()\n"
   ]
  },
  {
   "cell_type": "code",
   "execution_count": 31,
   "metadata": {},
   "outputs": [],
   "source": [
    "# Question 11\n",
    "\n",
    "im = cv.imread('gal_sandp.png')\n",
    "median = cv.medianBlur(im,5)\n",
    "cv.imshow(\"Median_Image\",median)\n",
    "cv.waitKey(0)\n",
    "cv.destroyAllWindows()"
   ]
  },
  {
   "cell_type": "code",
   "execution_count": 8,
   "metadata": {},
   "outputs": [
    {
     "data": {
      "image/png": "[encoded data removed]",
      "text/plain": [
       "<Figure size 432x288 with 1 Axes>"
      ]
     },
     "metadata": {
      "needs_background": "light"
     },
     "output_type": "display_data"
    }
   ],
   "source": [
    "# Question 12\n",
    "\n",
    "import numpy as np\n",
    "import cv2 as cv \n",
    "import matplotlib.pyplot as plt\n",
    "\n",
    "im = np.zeros((40,60),dtype=np.uint8)\n",
    "\n",
    "im[0:21, 30:61] = 125\n",
    "\n",
    "fig, ax = plt.subplots() \n",
    "ax.imshow(im, cmap ='gray')\n",
    "\n",
    "plt.show()"
   ]
  },
  {
   "cell_type": "code",
   "execution_count": 30,
   "metadata": {},
   "outputs": [
    {
     "data": {
      "image/png": "[encoded data removed]",
      "text/plain": [
       "<Figure size 432x288 with 1 Axes>"
      ]
     },
     "metadata": {
      "needs_background": "light"
     },
     "output_type": "display_data"
    }
   ],
   "source": [
    "# Question 13\n",
    "import numpy as np\n",
    "import cv2 as cv \n",
    "import matplotlib.pyplot as plt\n",
    "\n",
    "im = np.zeros((40,60,3),dtype=np.uint8)\n",
    "\n",
    "im[21:41, 0:31] = [224,33,138]\n",
    "\n",
    "fig, ax = plt.subplots() \n",
    "ax.imshow(im,vmax=255,vmin=0)\n",
    "\n",
    "plt.show()"
   ]
  },
  {
   "cell_type": "code",
   "execution_count": 20,
   "metadata": {},
   "outputs": [
    {
     "data": {
      "image/png": "[encoded data removed]",
      "text/plain": [
       "<Figure size 1152x288 with 2 Axes>"
      ]
     },
     "metadata": {
      "needs_background": "light"
     },
     "output_type": "display_data"
    }
   ],
   "source": [
    "# Question 14\n",
    "import cv2 as cv\n",
    "import numpy as np\n",
    "from matplotlib import pyplot as plt\n",
    "\n",
    "img = cv.imread ('tom_dark.jpg') \n",
    "cv.imshow(\"Original\", img)\n",
    "Intensity_Matrix = np.ones(img.shape, dtype = \"uint8\") * 100 \n",
    "brightened_image = cv.add(img, Intensity_Matrix) \n",
    "cv.imshow(\"Bright\", brightened_image)\n",
    "cv.waitKey(0)\n",
    "cv.destroyAllWindows()\n",
    "f = plt.figure(figsize=(16,4))\n",
    "ax1 = f.add_subplot(121)\n",
    "ax2 = f.add_subplot(122)\n",
    "ax1.imshow(img), ax1.title.set_text('Original')\n",
    "ax2.imshow(brightened_image), ax2.title.set_text('Bright')\n",
    "plt.show()"
   ]
  }
 ],
 "metadata": {
  "kernelspec": {
   "display_name": "Python 3",
   "language": "python",
   "name": "python3"
  },
  "language_info": {
   "codemirror_mode": {
    "name": "ipython",
    "version": 3
   },
   "file_extension": ".py",
   "mimetype": "text/x-python",
   "name": "python",
   "nbconvert_exporter": "python",
   "pygments_lexer": "ipython3",
   "version": "3.9.6"
  }
 },
 "nbformat": 4,
 "nbformat_minor": 4
}
